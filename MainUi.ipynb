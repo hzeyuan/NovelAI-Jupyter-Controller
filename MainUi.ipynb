{
 "cells": [
  {
   "cell_type": "markdown",
   "id": "3e5421b4-6035-4e3f-92e4-b630117063f5",
   "metadata": {},
   "source": [
    "## <font color='#ff0000'>镜像基于A5000整合，如果出现未知的问题请切换A5000尝试</font>\n",
    "##### <font color='#ff0000'>问题一般出现在xformers上如果有非必须请关闭它</font>\n",
    "##### <font color='#a88505'>经过测试:xformers在3090,3080上也可以运行,其它配置待测...</font>\n",
    "##### <font color='#a88505'>经过测试:xformers在TITAN Xp 上不可以运行,其它配置待测...</font>\n",
    "<font color='#e800e0'>执行任何操作前最好开学术加速，启动器不会自动更新，平时可以点点更新，说不定会有新东西出现✨</font>"
   ]
  },
  {
   "cell_type": "code",
   "execution_count": null,
   "id": "220d9fea-29c9-4f67-8c3c-aba07df33b5d",
   "metadata": {},
   "outputs": [],
   "source": [
    "import sys,subprocess\n",
    "sys.path.append('./ui-script')\n",
    "import MainUi\n",
    "\n",
    "data = {\n",
    "    \"is_speed\":False\n",
    "}\n",
    "\n",
    "def cmd_run(command):\n",
    "    !{command}\n",
    "\n",
    "MainUi.show(data,cmd_run)"
   ]
  }
 ],
 "metadata": {
  "kernelspec": {
   "display_name": "Python 3 (ipykernel)",
   "language": "python",
   "name": "python3"
  },
  "language_info": {
   "codemirror_mode": {
    "name": "ipython",
    "version": 3
   },
   "file_extension": ".py",
   "mimetype": "text/x-python",
   "name": "python",
   "nbconvert_exporter": "python",
   "pygments_lexer": "ipython3",
   "version": "3.8.10"
  }
 },
 "nbformat": 4,
 "nbformat_minor": 5
}
