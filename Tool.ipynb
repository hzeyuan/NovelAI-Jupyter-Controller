{
 "cells": [
  {
   "cell_type": "markdown",
   "id": "995edc91-4911-41bc-bfd2-a261e5a6089b",
   "metadata": {},
   "source": [
    "# 清理磁盘"
   ]
  },
  {
   "cell_type": "code",
   "execution_count": null,
   "id": "e379fb15-0a3f-47b9-98a9-04f2bfa8964b",
   "metadata": {},
   "outputs": [],
   "source": [
    "!du -sh /root/miniconda3/pkgs/ && rm -rf /root/miniconda3/pkgs/*\n",
    "!du -sh /root/.local/share/Trash && rm -rf /root/.local/share/Trash"
   ]
  },
  {
   "cell_type": "markdown",
   "id": "dbefdae4-4945-4f7c-ac13-003ecd411bc7",
   "metadata": {},
   "source": [
    "# 删除xformers(非xformers报错无需执行它！)"
   ]
  },
  {
   "cell_type": "code",
   "execution_count": null,
   "id": "7994bca5-0a39-422c-832f-ae4827a44217",
   "metadata": {},
   "outputs": [],
   "source": [
    "!rm -rf /root/xformers"
   ]
  }
 ],
 "metadata": {
  "kernelspec": {
   "display_name": "Python 3 (ipykernel)",
   "language": "python",
   "name": "python3"
  },
  "language_info": {
   "codemirror_mode": {
    "name": "ipython",
    "version": 3
   },
   "file_extension": ".py",
   "mimetype": "text/x-python",
   "name": "python",
   "nbconvert_exporter": "python",
   "pygments_lexer": "ipython3",
   "version": "3.8.10"
  }
 },
 "nbformat": 4,
 "nbformat_minor": 5
}
