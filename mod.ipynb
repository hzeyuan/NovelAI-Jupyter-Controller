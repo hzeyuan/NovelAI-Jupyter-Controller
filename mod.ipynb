{
 "cells": [
  {
   "cell_type": "markdown",
   "id": "e6972660-5026-4adf-b50f-72b6c01952de",
   "metadata": {},
   "source": [
    "# 1.初始化(每次必执行)"
   ]
  },
  {
   "cell_type": "code",
   "execution_count": null,
   "id": "21a9e7a4-55c0-45e2-a1dd-84fafae3f40c",
   "metadata": {},
   "outputs": [],
   "source": [
    "import sys\n",
    "sys.path.append('./ui-script')\n",
    "data = {\n",
    "    \"is_speed\":False,\n",
    "    \"cmd\":\"\"\n",
    "}\n",
    "def cmd_run():\n",
    "    !{data[\"cmd\"]}\n",
    "def cmd_(comm):\n",
    "    !{comm}"
   ]
  },
  {
   "cell_type": "markdown",
   "id": "eb4af23f-1766-4afe-a69c-7b1b99ae9ed3",
   "metadata": {},
   "source": [
    "# 2.开启学术加速(仅安装下载器需要)"
   ]
  },
  {
   "cell_type": "code",
   "execution_count": null,
   "id": "2cac26c3-b684-4f82-830d-5303159985a9",
   "metadata": {},
   "outputs": [],
   "source": [
    "import speed\n",
    "\n",
    "if 'data' not in dir():\n",
    "    print(\"你没有初始化!\")\n",
    "    pass\n",
    "\n",
    "out = speed.show(data)\n",
    "out"
   ]
  },
  {
   "cell_type": "markdown",
   "id": "f66fd205-7edf-4715-8101-43b277aeb4e8",
   "metadata": {},
   "source": [
    "# 3.安装下载器(仅第一次下载需要)"
   ]
  },
  {
   "cell_type": "code",
   "execution_count": null,
   "id": "1a42d80d-09c4-42ba-9ef8-0d7ade651cf1",
   "metadata": {},
   "outputs": [],
   "source": [
    "!cd /root/autodl-tmp/ && apt-get update && apt-get install aria2 -y && echo 安装完成"
   ]
  },
  {
   "cell_type": "markdown",
   "id": "65bf2f0b-6f1f-4786-8f20-58d8228d533d",
   "metadata": {},
   "source": [
    "# 4.开始下载"
   ]
  },
  {
   "cell_type": "markdown",
   "id": "66a9050f-1fc7-4d4f-bd25-fbfc76d4168a",
   "metadata": {},
   "source": [
    "### 4.1 下载任意直链或种子"
   ]
  },
  {
   "cell_type": "code",
   "execution_count": null,
   "id": "ccd45f26-d3b4-47dc-b9cb-1f3f7e92df74",
   "metadata": {},
   "outputs": [],
   "source": [
    "import mod\n",
    "\n",
    "if 'data' not in dir():\n",
    "    print(\"你没有初始化!\")\n",
    "    pass\n",
    "\n",
    "out = mod.show(data,cmd_)\n",
    "out"
   ]
  },
  {
   "cell_type": "markdown",
   "id": "16c9155a-b09b-419e-8945-aaac177e719e",
   "metadata": {},
   "source": [
    "### 4.2 下载内置模型"
   ]
  },
  {
   "cell_type": "code",
   "execution_count": null,
   "id": "48769517-cca9-4c18-9621-bdba1516aab0",
   "metadata": {},
   "outputs": [],
   "source": [
    "import mods\n",
    "\n",
    "if 'data' not in dir():\n",
    "    print(\"你没有初始化!\")\n",
    "    pass\n",
    "\n",
    "out = mods.show(cmd_)\n",
    "out"
   ]
  },
  {
   "cell_type": "code",
   "execution_count": null,
   "id": "c3a9fb2b-0653-43dd-9f9d-50d88b31bfc3",
   "metadata": {},
   "outputs": [],
   "source": []
  }
 ],
 "metadata": {
  "kernelspec": {
   "display_name": "Python 3 (ipykernel)",
   "language": "python",
   "name": "python3"
  },
  "language_info": {
   "codemirror_mode": {
    "name": "ipython",
    "version": 3
   },
   "file_extension": ".py",
   "mimetype": "text/x-python",
   "name": "python",
   "nbconvert_exporter": "python",
   "pygments_lexer": "ipython3",
   "version": "3.8.10"
  }
 },
 "nbformat": 4,
 "nbformat_minor": 5
}
