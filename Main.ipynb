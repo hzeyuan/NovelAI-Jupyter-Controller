{
 "cells": [
  {
   "cell_type": "markdown",
   "id": "870dbee3-fcd1-45ee-bea6-6797a79e1d56",
   "metadata": {},
   "source": [
    "## <font color='#ff0000'>镜像基于A5000整合，如果出现未知的问题请切换A5000尝试</font>\n",
    "<font color='#ff0000'>问题一般出现在xformers上如果有非必须请关闭它</font>"
   ]
  },
  {
   "cell_type": "markdown",
   "id": "eff94d47-07bb-41e7-a84f-949e4104caba",
   "metadata": {},
   "source": [
    "# 1.初始化命令(每次运行必执行)"
   ]
  },
  {
   "cell_type": "code",
   "execution_count": null,
   "id": "a7239b19-c578-4782-a8f3-5b0fa039d54c",
   "metadata": {},
   "outputs": [],
   "source": [
    "data = {\n",
    "    \"is_speed\":False,\n",
    "    \"cmd\":\"\"\n",
    "}\n",
    "def cmd_run():\n",
    "    !{data[\"cmd\"]}"
   ]
  },
  {
   "cell_type": "markdown",
   "id": "614c1acf-f4da-46f3-82d0-a4473bdbca43",
   "metadata": {},
   "source": [
    "# 2.学术加速设置(可选)"
   ]
  },
  {
   "cell_type": "code",
   "execution_count": null,
   "id": "b45deb96-76b9-452b-956b-0f82fc47ed50",
   "metadata": {},
   "outputs": [],
   "source": [
    "import sys\n",
    "sys.path.append('./ui-script')\n",
    "import speed\n",
    "\n",
    "if 'data' not in dir():\n",
    "    print(\"你没有初始化!\")\n",
    "    pass\n",
    "\n",
    "out = speed.show(data)\n",
    "out"
   ]
  },
  {
   "cell_type": "markdown",
   "id": "32fadcda-6a54-4dc4-adff-a906294d9164",
   "metadata": {},
   "source": [
    "# 3.更新设置(可选)(非必要不更新)"
   ]
  },
  {
   "cell_type": "markdown",
   "id": "bde67af6-d769-482b-a536-e86322cb01a4",
   "metadata": {},
   "source": [
    "#### 更新前记得开学术加速"
   ]
  },
  {
   "cell_type": "code",
   "execution_count": null,
   "id": "7821825f-6c19-4486-b6c9-158781863c6c",
   "metadata": {},
   "outputs": [],
   "source": [
    "import sys\n",
    "sys.path.append('./ui-script')\n",
    "import updata\n",
    "\n",
    "if 'data' not in dir():\n",
    "    print(\"你没有初始化!\")\n",
    "    pass\n",
    "\n",
    "out = updata.show(data,cmd_run)\n",
    "out"
   ]
  },
  {
   "cell_type": "markdown",
   "id": "b1ef1fa1-6608-4d3d-a5f9-a5dee7d47f69",
   "metadata": {},
   "source": [
    "# 4.启动设置"
   ]
  },
  {
   "cell_type": "code",
   "execution_count": null,
   "id": "ce17a87d-ce69-40b3-bd1b-a0a2e5eadd58",
   "metadata": {},
   "outputs": [],
   "source": [
    "import sys\n",
    "sys.path.append('./ui-script')\n",
    "import start\n",
    "\n",
    "if 'data' not in dir():\n",
    "    print(\"你没有初始化!\")\n",
    "    pass\n",
    "\n",
    "out = start.show(data,cmd_run)\n",
    "out"
   ]
  },
  {
   "cell_type": "markdown",
   "id": "63b13592-01bd-4efd-aa94-6e1d9b89e95c",
   "metadata": {},
   "source": [
    "### 启动完毕后通过自定义服务打开网站\n",
    "<img src=\"./ui-script/a1.png\">’"
   ]
  },
  {
   "cell_type": "code",
   "execution_count": null,
   "id": "85223d63-1bb9-4166-86c3-8af5b62a8a53",
   "metadata": {},
   "outputs": [],
   "source": []
  }
 ],
 "metadata": {
  "kernelspec": {
   "display_name": "Python 3 (ipykernel)",
   "language": "python",
   "name": "python3"
  },
  "language_info": {
   "codemirror_mode": {
    "name": "ipython",
    "version": 3
   },
   "file_extension": ".py",
   "mimetype": "text/x-python",
   "name": "python",
   "nbconvert_exporter": "python",
   "pygments_lexer": "ipython3",
   "version": "3.8.10"
  }
 },
 "nbformat": 4,
 "nbformat_minor": 5
}
